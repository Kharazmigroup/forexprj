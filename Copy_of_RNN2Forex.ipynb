{
  "cells": [
    {
      "cell_type": "markdown",
      "metadata": {
        "id": "view-in-github",
        "colab_type": "text"
      },
      "source": [
        "<a href=\"https://colab.research.google.com/github/Kharazmigroup/forexprj/blob/main/Copy_of_RNN2Forex.ipynb\" target=\"_parent\"><img src=\"https://colab.research.google.com/assets/colab-badge.svg\" alt=\"Open In Colab\"/></a>"
      ]
    },
    {
      "cell_type": "code",
      "execution_count": 1,
      "metadata": {
        "id": "BcjqXsnLqTLO"
      },
      "outputs": [],
      "source": [
        "#import all libraries\n",
        "import numpy as np\n",
        "import pandas as pd\n",
        "import math\n",
        "import sklearn\n",
        "import sklearn.preprocessing\n",
        "from sklearn.preprocessing import StandardScaler\n",
        "import datetime\n",
        "import os\n",
        "import matplotlib.pyplot as plt\n",
        "import tensorflow as tf\n",
        "from tensorflow.keras import datasets, layers, models\n",
        "import yfinance as yf\n",
        "from keras.models import Sequential\n",
        "from keras.layers import Dense\n",
        "from keras.layers import SimpleRNN,RNN\n",
        "from keras.layers import Dropout\n",
        "import IPython\n",
        "import IPython.display\n",
        "from math import floor"
      ]
    },
    {
      "cell_type": "code",
      "execution_count": 2,
      "metadata": {
        "id": "w16y7K87IeTe"
      },
      "outputs": [],
      "source": [
        "#set hyper parameters.there is a sequence. the network sees the input days and predicts the other days. seq_len is the sum of inputs and offsets.\n",
        "seq_len = 3 # taken sequence length as 3\n",
        "n_steps = seq_len - 1\n",
        "n_neurons = 800\n",
        "n_layers = 4\n",
        "learning_rate = 0.000097\n",
        "batch_size = 64\n",
        "dropout_rate = 0.2\n",
        "num_features = 6"
      ]
    },
    {
      "cell_type": "markdown",
      "source": [
        "For example, to make a single prediction 24 hours into the future, given 24 hours of history, you might define a window like this:\n",
        "\n",
        "![image.png](data:image/png;base64,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)"
      ],
      "metadata": {
        "id": "DRjD2gV3jahs"
      }
    },
    {
      "cell_type": "code",
      "execution_count": 3,
      "metadata": {
        "id": "lFLxcXfgrlA5"
      },
      "outputs": [],
      "source": [
        "#the data must be normalized so it becomes understandable for machine.\n",
        "def normalize_data(df):\n",
        "    min_max_scaler = sklearn.preprocessing.MinMaxScaler()\n",
        "    df['Open'] = min_max_scaler.fit_transform(df.Open.values.reshape(-1,1))\n",
        "    df['High'] = min_max_scaler.fit_transform(df.High.values.reshape(-1,1))\n",
        "    df['Low'] = min_max_scaler.fit_transform(df.Low.values.reshape(-1,1))\n",
        "    df['Close'] = min_max_scaler.fit_transform(df['Close'].values.reshape(-1,1))\n",
        "    return df"
      ]
    },
    {
      "cell_type": "code",
      "execution_count": 4,
      "metadata": {
        "id": "IGX9rqe6P1w_"
      },
      "outputs": [],
      "source": [
        "#spilite data and and make three datasets for training and validation and test.\n",
        "def spilitData(df_stock_norm):\n",
        "  n = len(df_stock_norm)\n",
        "  train_df = df_stock_norm[0:int(n*0.8)]\n",
        "  val_df = df_stock_norm[int(n*0.8):int(n*0.9)]\n",
        "  test_df = df_stock_norm[int(n*0.9):]\n",
        "\n",
        "  num_features = df_stock_norm.shape[1]\n",
        "  return train_df,val_df,test_df"
      ]
    },
    {
      "cell_type": "code",
      "source": [
        "#because of normalization(between 0 and 1) some values become zero. in calculating the amount of profit, we may encounter divide by zero error. so zero values are deleted with this function.\n",
        "def drop_zeros(df_stock):\n",
        "  mask = (df_stock.drop(columns=['Volume']) == 0).any(axis=1)\n",
        "  removed_rows = df_stock[mask]\n",
        "  df_stock = df_stock[~mask]\n",
        "\n",
        "  # Display the removed rows\n",
        "  print(\"Removed Rows:\")\n",
        "  print(removed_rows)\n",
        "  return df_stock"
      ],
      "metadata": {
        "id": "5XGy6GjFgdph"
      },
      "execution_count": 5,
      "outputs": []
    },
    {
      "cell_type": "code",
      "execution_count": 6,
      "metadata": {
        "id": "f9rrr_tBJZ0S"
      },
      "outputs": [],
      "source": [
        "class WindowGenerator():\n",
        "\n",
        "  def __init__(self,df,input_width, label_width, shift,label_columns=None):\n",
        "    # Work out the label column indices.\n",
        "    self.column_indices ={name: i for i, name in enumerate(df.columns)}\n",
        "    self.label_columns = label_columns\n",
        "    if label_columns is not None:\n",
        "      self.label_columns_indices = {name: i for i, name in\n",
        "                                    enumerate(label_columns)}\n",
        "    self.column_indices = {name: i for i, name in\n",
        "                           enumerate(df.columns)}\n",
        "\n",
        "    # Work out the window parameters.\n",
        "    self.input_width = input_width\n",
        "    self.label_width = label_width\n",
        "    self.shift = shift\n",
        "\n",
        "    self.total_window_size = input_width + shift\n",
        "\n",
        "    self.input_slice = slice(0, input_width)\n",
        "    self.input_indices = np.arange(self.total_window_size)[self.input_slice]\n",
        "\n",
        "    self.label_start = self.total_window_size - self.label_width\n",
        "    self.labels_slice = slice(self.label_start, None)\n",
        "    self.label_indices = np.arange(self.total_window_size)[self.labels_slice]\n",
        "\n",
        "  def __repr__(self):\n",
        "    return '\\n'.join([\n",
        "        f'Total window size: {self.total_window_size}',\n",
        "        f'Input indices: {self.input_indices}',\n",
        "        f'Label indices: {self.label_indices}',\n",
        "        f'Label column name(s): {self.label_columns}'])"
      ]
    },
    {
      "cell_type": "code",
      "execution_count": 7,
      "metadata": {
        "id": "AMfvl3aoOguT"
      },
      "outputs": [],
      "source": [
        "def split_window(self, features):\n",
        "  inputs = features[:, self.input_slice, :]\n",
        "  labels = features[:, self.labels_slice, :]\n",
        "  if self.label_columns is not None:\n",
        "    labels = tf.stack(\n",
        "        [labels[:, :, self.column_indices[name]] for name in self.label_columns],\n",
        "        axis=-1)\n",
        "\n",
        "  # Slicing doesn't preserve static shape information, so set the shapes\n",
        "  # manually. This way the `tf.data.Datasets` are easier to inspect.\n",
        "  inputs.set_shape([None, self.input_width, None])\n",
        "  labels.set_shape([None, self.label_width, None])\n",
        "  return inputs, labels\n",
        "\n",
        "WindowGenerator.split_window = split_window"
      ]
    },
    {
      "cell_type": "code",
      "execution_count": 8,
      "metadata": {
        "id": "jMJ-3TLyTkCn"
      },
      "outputs": [],
      "source": [
        "#this function makes datasets like timeseries so they becomes suitable for a RNN network.\n",
        "def make_dataset(self, data):\n",
        "\n",
        "  data = np.array(data, dtype=np.float32)\n",
        "\n",
        "  ds = tf.keras.utils.timeseries_dataset_from_array(\n",
        "        data=data,\n",
        "        targets=None,\n",
        "        sequence_length=self.total_window_size,\n",
        "        sequence_stride=1,\n",
        "        shuffle=False,\n",
        "        batch_size= batch_size)\n",
        "\n",
        "  ds = ds.map(self.split_window)\n",
        "  return ds\n",
        "\n",
        "WindowGenerator.make_dataset = make_dataset"
      ]
    },
    {
      "cell_type": "code",
      "execution_count": 9,
      "metadata": {
        "id": "D5D-_O45WfQU"
      },
      "outputs": [],
      "source": [
        "# the model consists of many RNN layers. each layer has many neurons. we increased the number of neurons and saw the accuracy improved.\n",
        "# after RNN layers, there is a Dense layer that outputs six features.\n",
        "# to avoid overfitting and also enhancing the model, we added a dropout.\n",
        "class FeedBack(tf.keras.Model):\n",
        "  def __init__(self, units, out_steps):\n",
        "    super().__init__()\n",
        "    self.out_steps = out_steps\n",
        "    self.units = units\n",
        "    layers = [tf.keras.layers.SimpleRNNCell(units=n_neurons)\n",
        "         for layer in range(n_layers)]\n",
        "    self.lstm_cell = tf.keras.layers.StackedRNNCells(layers)\n",
        "    # Also wrap the LSTMCell in an RNN to simplify the `warmup` method.\n",
        "    self.lstm_rnn = tf.keras.layers.RNN(self.lstm_cell, return_state=True)\n",
        "    self.dropout = tf.keras.layers.Dropout(dropout_rate)\n",
        "    #self.dense1 = tf.keras.layers.Dense(64, activation='relu')\n",
        "    #self.dense2 = tf.keras.layers.Dense(32, activation='relu')\n",
        "    #self.dropout2 = tf.keras.layers.Dropout(dropout_rate)\n",
        "    #self.output_layer = tf.keras.layers.Dense(num_features, activation='linear')\n",
        "    self.dense = tf.keras.layers.Dense(num_features,activation = 'relu')"
      ]
    },
    {
      "cell_type": "code",
      "execution_count": 10,
      "metadata": {
        "id": "6jFv659AWuRT"
      },
      "outputs": [],
      "source": [
        "feedback_model = FeedBack(units=n_neurons, out_steps = n_steps)"
      ]
    },
    {
      "cell_type": "markdown",
      "source": [
        "![image.png](data:image/png;base64,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)"
      ],
      "metadata": {
        "id": "SHyqqHpfZU0d"
      }
    },
    {
      "cell_type": "code",
      "execution_count": 11,
      "metadata": {
        "id": "58cCnZNcO3Kk"
      },
      "outputs": [],
      "source": [
        "#give the model time to warm up its internal state before making a single prediction\n",
        "def warmup(self, inputs):\n",
        "  # inputs.shape => (batch, time, features)\n",
        "  # x.shape => (batch, lstm_units)\n",
        "  x, *state = self.lstm_rnn(inputs)\n",
        "  # predictions.shape => (batch, features)\n",
        "  prediction = self.dense(x)\n",
        "\n",
        "  return prediction, state\n",
        "\n",
        "FeedBack.warmup = warmup"
      ]
    },
    {
      "cell_type": "code",
      "execution_count": 12,
      "metadata": {
        "id": "o7GXkkaMO75f"
      },
      "outputs": [],
      "source": [
        "# this call function as you see in the image above, gets the predictions and gives them as input to the model again..\n",
        "def call(self, inputs, training=None):\n",
        "  # Use a TensorArray to capture dynamically unrolled outputs.\n",
        "  predictions = []\n",
        "  # Initialize the LSTM state.\n",
        "  prediction, state = self.warmup(inputs)\n",
        "\n",
        "  # Insert the first prediction.\n",
        "  predictions.append(prediction)\n",
        "\n",
        "  # Run the rest of the prediction steps.\n",
        "  for n in range(1, self.out_steps):\n",
        "    # Use the last prediction as input.\n",
        "    x = prediction\n",
        "    # Execute one lstm step.\n",
        "    x, state = self.lstm_cell(x, states=state,\n",
        "                          training=training)\n",
        "    if training:\n",
        "      x = self.dropout(x)\n",
        "    # Convert the lstm output to a prediction.\n",
        "    prediction = self.dense(x)\n",
        "    # Add the prediction to the output.\n",
        "    predictions.append(prediction)\n",
        "\n",
        "  # predictions.shape => (time, batch, features)\n",
        "  predictions = tf.stack(predictions)\n",
        "  # predictions.shape => (batch, time, features)\n",
        "  predictions = tf.transpose(predictions, [1, 0, 2])\n",
        "  return predictions\n",
        "\n",
        "FeedBack.call = call"
      ]
    },
    {
      "cell_type": "code",
      "execution_count": 13,
      "metadata": {
        "id": "AUiiZi8oXN3z"
      },
      "outputs": [],
      "source": [
        "#MAX_EPOCHS = 150\n",
        "\n",
        "def compile_and_fit(model, window,epoch, patience=10):\n",
        "  #early_stopping = tf.keras.callbacks.EarlyStopping(monitor='val_loss',\n",
        "   #                                                 patience=patience,\n",
        "    #                                                mode='min')\n",
        "\n",
        "  model.compile(loss=tf.keras.losses.MeanSquaredError(),\n",
        "                optimizer=tf.keras.optimizers.Adam(learning_rate = learning_rate),\n",
        "                metrics=[tf.keras.metrics.MeanAbsoluteError()])\n",
        "\n",
        "  history = model.fit(window.train, epochs=epoch,\n",
        "                      validation_data=window.val)\n",
        "                     # callbacks=[early_stopping])\n",
        "  return history"
      ]
    },
    {
      "cell_type": "code",
      "execution_count": 14,
      "metadata": {
        "id": "x9KkhgHTsCBA"
      },
      "outputs": [],
      "source": [
        " #for ploting and comparing target values and predictions, we need labels..\n",
        " #this function seperate inputs and labels from dataset.\n",
        " def get_input_Labels(ds):\n",
        "  ds_inputs = []\n",
        "  ds_labels = []\n",
        "  for inputs, labels in ds:\n",
        "      ds_inputs.append(inputs.numpy())\n",
        "      ds_labels.append(labels.numpy())\n",
        "  batch_input = []\n",
        "  batch_labels = []\n",
        "  for i in range(len(ds_labels)):\n",
        "    for j in range(len(ds_labels[i])):\n",
        "      batch_labels.append(ds_labels[i][j])\n",
        "      batch_input.append(ds_inputs[i][j])\n",
        "  return np.array(batch_input),np.array(batch_labels)"
      ]
    },
    {
      "cell_type": "code",
      "execution_count": 15,
      "metadata": {
        "id": "vEee0rHzWEQX"
      },
      "outputs": [],
      "source": [
        "def plot_target_predict(test_labels,predictions):\n",
        "  # ploting the graph\n",
        "  comp = pd.DataFrame({'Column1':test_labels[:,-1,:][:,3],'Column2':predictions[:,-1,:][:,3]})\n",
        "  plt.figure(figsize=(20,5))\n",
        "  plt.plot(comp['Column1'], color='orange', label='Target')\n",
        "  plt.plot(comp['Column2'], color='red', label='Prediction')\n",
        "  plt.legend()\n",
        "  plt.show()"
      ]
    },
    {
      "cell_type": "code",
      "execution_count": 16,
      "metadata": {
        "id": "JiXZKIYZOsmT"
      },
      "outputs": [],
      "source": [
        "def plot(history):\n",
        "  acc = history.history['mean_absolute_error']\n",
        "  val_acc = history.history['val_mean_absolute_error']\n",
        "\n",
        "  loss = history.history['loss']\n",
        "  val_loss = history.history['val_loss']\n",
        "\n",
        "  epochs = range(1, len(acc) + 1)\n",
        "\n",
        "  plt.figure(figsize=(20, 8))\n",
        "  plt.subplot(1, 2, 1)\n",
        "  plt.plot(epochs, acc, label='Training Accuracy')\n",
        "  plt.plot(epochs, val_acc, label='Validation Accuracy')\n",
        "  plt.legend(loc='lower right')\n",
        "  plt.title('Training and Validation Accuracy')\n",
        "\n",
        "  plt.subplot(1, 2, 2)\n",
        "  plt.plot(epochs, loss, label='Training Loss')\n",
        "  plt.plot(epochs, val_loss, label='Validation Loss')\n",
        "  plt.legend(loc='upper right')\n",
        "  plt.title('Training and Validation Loss')\n",
        "  plt.show()"
      ]
    },
    {
      "cell_type": "code",
      "execution_count": 17,
      "metadata": {
        "id": "oblpt21tfD6b"
      },
      "outputs": [],
      "source": [
        "#it seems ploting is not enough for evaluating model. with this function the amount of profit will be obtained based on predictions.\n",
        "def calculate_profit(predictions,test_inputs):\n",
        "  amount_of_profit = 0\n",
        "  for i in range(1,len(predictions)):\n",
        "    if (test_inputs[i,-1,3] > test_inputs[i-1,-1,3]):\n",
        "      if(test_inputs[i-1,-1,3]==0):\n",
        "            print(\"i zero...else...\"+str(i))\n",
        "      else:\n",
        "        if(predictions[i,-1,3] > test_inputs[i-1,-1,3]):\n",
        "          amount_of_profit += ((min(predictions[i,-1,3],test_inputs[i,-1,3])-test_inputs[i-1,-1,3])/test_inputs[i-1,-1,3]) *10000\n",
        "        else:\n",
        "          amount_of_profit += -((test_inputs[i,-1,3] - test_inputs[i-1,-1,3])/test_inputs[i-1,-1,3] * 10000)\n",
        "    else:\n",
        "      if(test_inputs[i-1,-1,3]==0):\n",
        "            print(\"i zero...else...\"+str(i))\n",
        "      else:\n",
        "        if (predictions[i,-1,3] <test_inputs[i-1,-1,3] ):\n",
        "          amount_of_profit += (test_inputs[i-1,-1,3] - max(predictions[i,-1,3],test_inputs[i,-1,3]))/test_inputs[i-1,-1,3] * 10000\n",
        "        else:\n",
        "          amount_of_profit += (test_inputs[i,-1,3]-test_inputs[i-1,-1,3])/test_inputs[i-1,-1,3]*1000\n",
        "  return amount_of_profit"
      ]
    },
    {
      "cell_type": "code",
      "execution_count": 18,
      "metadata": {
        "id": "lxBo7arRJUvm"
      },
      "outputs": [],
      "source": [
        "#in dynamic LSTM method, the actual value of the recently predicted\n",
        "#date is added to the training dataset to rebuild the model to make predictions for data in\n",
        "#the testing set\n",
        "def dynamicLSTM(window,test_inputs,test_labels):\n",
        "  train_inputs,train_labels = get_input_Labels(window.train)\n",
        "  len_recent_data = 10\n",
        "  i = 0\n",
        "  new_predictions = np.empty(shape = (0,n_steps,num_features))\n",
        "  print(\"len new pre...\"+str(len(new_predictions)))\n",
        "  iteration = floor(len(test_inputs)/len_recent_data)\n",
        "  while i < iteration*len_recent_data :\n",
        "      npredictions = feedback_model.predict(test_inputs[i:i+len_recent_data])\n",
        "      new_predictions = np.concatenate((new_predictions, npredictions), axis=0)\n",
        "      combined_data = np.concatenate((train_inputs, test_inputs[i:i+len_recent_data]), axis=0)\n",
        "      combined_data_labels = np.concatenate((train_labels, test_labels[i:i+len_recent_data]), axis=0)\n",
        "      window.train = window.make_dataset(combined_data[:,-1,:],64)\n",
        "      feedback_model.compile(loss=tf.keras.losses.MeanSquaredError(),\n",
        "                  optimizer=tf.keras.optimizers.Adam(learning_rate = learning_rate),\n",
        "                  metrics=[tf.keras.metrics.MeanAbsoluteError()])\n",
        "\n",
        "      history = feedback_model.fit(combined_data,combined_data_labels, epochs=7,\n",
        "                        validation_data=window.val)\n",
        "      i += len_recent_data\n",
        "      print(\"itrration.....\"+str(i))\n",
        "  print(\"last i....\"+str(i))\n",
        "  npredictions = feedback_model.predict(test_inputs[i:])\n",
        "  new_predictions = np.concatenate((new_predictions, npredictions), axis=0)\n",
        "  plot_target_predict(test_labels,new_predictions)\n",
        "  amount_of_profit = calculate_profit(new_predictions ,test_inputs)\n",
        "  print(\"amount of profit....dynamic LSTM...\"+str(amount_of_profit))"
      ]
    },
    {
      "cell_type": "code",
      "execution_count": null,
      "metadata": {
        "id": "0hvwXZSnP67_"
      },
      "outputs": [],
      "source": [
        "\n",
        "def run_model(cur_pair,start,end,interval,epoch):\n",
        "  df_stock = yf.download(cur_pair, start, end ,interval)\n",
        "  df_stock = normalize_data(df_stock)\n",
        "  mask = (df_stock.drop(columns=['Volume']) == 0).any(axis=1)\n",
        "  df_stock = drop_zeros(df_stock)\n",
        "  train_df,val_df,test_df = spilitData(df_stock)\n",
        "  multi_window = WindowGenerator(train_df,input_width=n_steps,\n",
        "                               label_width=1,\n",
        "                               shift=1)\n",
        "  multi_window.train = multi_window.make_dataset(train_df)\n",
        "  multi_window.val = multi_window.make_dataset(val_df)\n",
        "  multi_window.test = multi_window.make_dataset(test_df)\n",
        "  history = compile_and_fit(feedback_model, multi_window,epoch)\n",
        "  predictions = feedback_model.predict(multi_window.test)\n",
        "  test_inputs,test_labels = get_input_Labels(multi_window.test)\n",
        "  plot_target_predict(test_labels,predictions)\n",
        "  profit = calculate_profit(predictions,test_inputs)\n",
        "  print(\"profit....\"+str(profit))"
      ]
    },
    {
      "cell_type": "code",
      "execution_count": null,
      "metadata": {
        "id": "B-4S1TcNdoej"
      },
      "outputs": [],
      "source": [
        "#create data of the next days.\n",
        "def future_data():\n",
        "  data = {\n",
        "      'Date': pd.to_datetime(['2023-10-18','2023-10-19', '2023-10-20', '2023-10-21', '2023-10-22', '2023-10-23']),\n",
        "      'Open': [0] * 6,\n",
        "      'High': [0] * 6,\n",
        "      'Low': [0] * 6,\n",
        "      'Close': [0] * 6,\n",
        "      'Adj Close': [0] * 6,\n",
        "      'Volume' : [0] * 6\n",
        "  }\n",
        "  df_next_days = pd.DataFrame(data)\n",
        "  df_next_days = df_next_days.set_index('Date')\n",
        "  return df_next_days\n"
      ]
    },
    {
      "cell_type": "code",
      "source": [
        "#the above dataset with zero values can not satisfy the realistic data. so we created again with random values.\n",
        "future_data = pd.DataFrame({\n",
        "    'Date': pd.date_range(start='2023-10-15', periods=365, freq='D'),\n",
        "    'Open': np.random.rand(365) ,\n",
        "    'High': np.random.rand(365) ,\n",
        "    'Low': np.random.rand(365) ,\n",
        "    'Close': np.random.rand(365) ,\n",
        "    'Adj Close': np.random.rand(365) ,\n",
        "    'Volume' :[0] * 365\n",
        "})\n",
        "future_data = pd.DataFrame(future_data)\n",
        "future_data = future_data.set_index('Date')"
      ],
      "metadata": {
        "id": "q4aAU03R63Ww"
      },
      "execution_count": null,
      "outputs": []
    },
    {
      "cell_type": "code",
      "source": [
        "future_data"
      ],
      "metadata": {
        "colab": {
          "base_uri": "https://localhost:8080/",
          "height": 455
        },
        "id": "2eTZkOPWAQvv",
        "outputId": "894fb9cd-df1b-4e99-9109-8932079728f2"
      },
      "execution_count": null,
      "outputs": [
        {
          "output_type": "execute_result",
          "data": {
            "text/plain": [
              "                Open      High       Low     Close  Adj Close  Volume\n",
              "Date                                                                 \n",
              "2023-10-15  0.359651  0.385582  0.691847  0.359150   0.085223       0\n",
              "2023-10-16  0.085881  0.215950  0.654314  0.506705   0.567867       0\n",
              "2023-10-17  0.428267  0.101542  0.358349  0.272575   0.764801       0\n",
              "2023-10-18  0.038449  0.067732  0.592087  0.073945   0.258099       0\n",
              "2023-10-19  0.155329  0.062255  0.488212  0.727291   0.882928       0\n",
              "...              ...       ...       ...       ...        ...     ...\n",
              "2024-10-09  0.026242  0.950659  0.562526  0.596601   0.306856       0\n",
              "2024-10-10  0.272951  0.460030  0.063173  0.569028   0.259254       0\n",
              "2024-10-11  0.600969  0.724920  0.265479  0.768425   0.754683       0\n",
              "2024-10-12  0.529305  0.832760  0.780699  0.103238   0.363294       0\n",
              "2024-10-13  0.779837  0.775247  0.605000  0.969565   0.812580       0\n",
              "\n",
              "[365 rows x 6 columns]"
            ],
            "text/html": [
              "\n",
              "  <div id=\"df-80465d2b-db63-474a-8578-48b080a60ed5\" class=\"colab-df-container\">\n",
              "    <div>\n",
              "<style scoped>\n",
              "    .dataframe tbody tr th:only-of-type {\n",
              "        vertical-align: middle;\n",
              "    }\n",
              "\n",
              "    .dataframe tbody tr th {\n",
              "        vertical-align: top;\n",
              "    }\n",
              "\n",
              "    .dataframe thead th {\n",
              "        text-align: right;\n",
              "    }\n",
              "</style>\n",
              "<table border=\"1\" class=\"dataframe\">\n",
              "  <thead>\n",
              "    <tr style=\"text-align: right;\">\n",
              "      <th></th>\n",
              "      <th>Open</th>\n",
              "      <th>High</th>\n",
              "      <th>Low</th>\n",
              "      <th>Close</th>\n",
              "      <th>Adj Close</th>\n",
              "      <th>Volume</th>\n",
              "    </tr>\n",
              "    <tr>\n",
              "      <th>Date</th>\n",
              "      <th></th>\n",
              "      <th></th>\n",
              "      <th></th>\n",
              "      <th></th>\n",
              "      <th></th>\n",
              "      <th></th>\n",
              "    </tr>\n",
              "  </thead>\n",
              "  <tbody>\n",
              "    <tr>\n",
              "      <th>2023-10-15</th>\n",
              "      <td>0.359651</td>\n",
              "      <td>0.385582</td>\n",
              "      <td>0.691847</td>\n",
              "      <td>0.359150</td>\n",
              "      <td>0.085223</td>\n",
              "      <td>0</td>\n",
              "    </tr>\n",
              "    <tr>\n",
              "      <th>2023-10-16</th>\n",
              "      <td>0.085881</td>\n",
              "      <td>0.215950</td>\n",
              "      <td>0.654314</td>\n",
              "      <td>0.506705</td>\n",
              "      <td>0.567867</td>\n",
              "      <td>0</td>\n",
              "    </tr>\n",
              "    <tr>\n",
              "      <th>2023-10-17</th>\n",
              "      <td>0.428267</td>\n",
              "      <td>0.101542</td>\n",
              "      <td>0.358349</td>\n",
              "      <td>0.272575</td>\n",
              "      <td>0.764801</td>\n",
              "      <td>0</td>\n",
              "    </tr>\n",
              "    <tr>\n",
              "      <th>2023-10-18</th>\n",
              "      <td>0.038449</td>\n",
              "      <td>0.067732</td>\n",
              "      <td>0.592087</td>\n",
              "      <td>0.073945</td>\n",
              "      <td>0.258099</td>\n",
              "      <td>0</td>\n",
              "    </tr>\n",
              "    <tr>\n",
              "      <th>2023-10-19</th>\n",
              "      <td>0.155329</td>\n",
              "      <td>0.062255</td>\n",
              "      <td>0.488212</td>\n",
              "      <td>0.727291</td>\n",
              "      <td>0.882928</td>\n",
              "      <td>0</td>\n",
              "    </tr>\n",
              "    <tr>\n",
              "      <th>...</th>\n",
              "      <td>...</td>\n",
              "      <td>...</td>\n",
              "      <td>...</td>\n",
              "      <td>...</td>\n",
              "      <td>...</td>\n",
              "      <td>...</td>\n",
              "    </tr>\n",
              "    <tr>\n",
              "      <th>2024-10-09</th>\n",
              "      <td>0.026242</td>\n",
              "      <td>0.950659</td>\n",
              "      <td>0.562526</td>\n",
              "      <td>0.596601</td>\n",
              "      <td>0.306856</td>\n",
              "      <td>0</td>\n",
              "    </tr>\n",
              "    <tr>\n",
              "      <th>2024-10-10</th>\n",
              "      <td>0.272951</td>\n",
              "      <td>0.460030</td>\n",
              "      <td>0.063173</td>\n",
              "      <td>0.569028</td>\n",
              "      <td>0.259254</td>\n",
              "      <td>0</td>\n",
              "    </tr>\n",
              "    <tr>\n",
              "      <th>2024-10-11</th>\n",
              "      <td>0.600969</td>\n",
              "      <td>0.724920</td>\n",
              "      <td>0.265479</td>\n",
              "      <td>0.768425</td>\n",
              "      <td>0.754683</td>\n",
              "      <td>0</td>\n",
              "    </tr>\n",
              "    <tr>\n",
              "      <th>2024-10-12</th>\n",
              "      <td>0.529305</td>\n",
              "      <td>0.832760</td>\n",
              "      <td>0.780699</td>\n",
              "      <td>0.103238</td>\n",
              "      <td>0.363294</td>\n",
              "      <td>0</td>\n",
              "    </tr>\n",
              "    <tr>\n",
              "      <th>2024-10-13</th>\n",
              "      <td>0.779837</td>\n",
              "      <td>0.775247</td>\n",
              "      <td>0.605000</td>\n",
              "      <td>0.969565</td>\n",
              "      <td>0.812580</td>\n",
              "      <td>0</td>\n",
              "    </tr>\n",
              "  </tbody>\n",
              "</table>\n",
              "<p>365 rows × 6 columns</p>\n",
              "</div>\n",
              "    <div class=\"colab-df-buttons\">\n",
              "\n",
              "  <div class=\"colab-df-container\">\n",
              "    <button class=\"colab-df-convert\" onclick=\"convertToInteractive('df-80465d2b-db63-474a-8578-48b080a60ed5')\"\n",
              "            title=\"Convert this dataframe to an interactive table.\"\n",
              "            style=\"display:none;\">\n",
              "\n",
              "  <svg xmlns=\"http://www.w3.org/2000/svg\" height=\"24px\" viewBox=\"0 -960 960 960\">\n",
              "    <path d=\"M120-120v-720h720v720H120Zm60-500h600v-160H180v160Zm220 220h160v-160H400v160Zm0 220h160v-160H400v160ZM180-400h160v-160H180v160Zm440 0h160v-160H620v160ZM180-180h160v-160H180v160Zm440 0h160v-160H620v160Z\"/>\n",
              "  </svg>\n",
              "    </button>\n",
              "\n",
              "  <style>\n",
              "    .colab-df-container {\n",
              "      display:flex;\n",
              "      gap: 12px;\n",
              "    }\n",
              "\n",
              "    .colab-df-convert {\n",
              "      background-color: #E8F0FE;\n",
              "      border: none;\n",
              "      border-radius: 50%;\n",
              "      cursor: pointer;\n",
              "      display: none;\n",
              "      fill: #1967D2;\n",
              "      height: 32px;\n",
              "      padding: 0 0 0 0;\n",
              "      width: 32px;\n",
              "    }\n",
              "\n",
              "    .colab-df-convert:hover {\n",
              "      background-color: #E2EBFA;\n",
              "      box-shadow: 0px 1px 2px rgba(60, 64, 67, 0.3), 0px 1px 3px 1px rgba(60, 64, 67, 0.15);\n",
              "      fill: #174EA6;\n",
              "    }\n",
              "\n",
              "    .colab-df-buttons div {\n",
              "      margin-bottom: 4px;\n",
              "    }\n",
              "\n",
              "    [theme=dark] .colab-df-convert {\n",
              "      background-color: #3B4455;\n",
              "      fill: #D2E3FC;\n",
              "    }\n",
              "\n",
              "    [theme=dark] .colab-df-convert:hover {\n",
              "      background-color: #434B5C;\n",
              "      box-shadow: 0px 1px 3px 1px rgba(0, 0, 0, 0.15);\n",
              "      filter: drop-shadow(0px 1px 2px rgba(0, 0, 0, 0.3));\n",
              "      fill: #FFFFFF;\n",
              "    }\n",
              "  </style>\n",
              "\n",
              "    <script>\n",
              "      const buttonEl =\n",
              "        document.querySelector('#df-80465d2b-db63-474a-8578-48b080a60ed5 button.colab-df-convert');\n",
              "      buttonEl.style.display =\n",
              "        google.colab.kernel.accessAllowed ? 'block' : 'none';\n",
              "\n",
              "      async function convertToInteractive(key) {\n",
              "        const element = document.querySelector('#df-80465d2b-db63-474a-8578-48b080a60ed5');\n",
              "        const dataTable =\n",
              "          await google.colab.kernel.invokeFunction('convertToInteractive',\n",
              "                                                    [key], {});\n",
              "        if (!dataTable) return;\n",
              "\n",
              "        const docLinkHtml = 'Like what you see? Visit the ' +\n",
              "          '<a target=\"_blank\" href=https://colab.research.google.com/notebooks/data_table.ipynb>data table notebook</a>'\n",
              "          + ' to learn more about interactive tables.';\n",
              "        element.innerHTML = '';\n",
              "        dataTable['output_type'] = 'display_data';\n",
              "        await google.colab.output.renderOutput(dataTable, element);\n",
              "        const docLink = document.createElement('div');\n",
              "        docLink.innerHTML = docLinkHtml;\n",
              "        element.appendChild(docLink);\n",
              "      }\n",
              "    </script>\n",
              "  </div>\n",
              "\n",
              "\n",
              "<div id=\"df-5bd27f3f-cd54-4c16-a890-3417f5f6b7dd\">\n",
              "  <button class=\"colab-df-quickchart\" onclick=\"quickchart('df-5bd27f3f-cd54-4c16-a890-3417f5f6b7dd')\"\n",
              "            title=\"Suggest charts.\"\n",
              "            style=\"display:none;\">\n",
              "\n",
              "<svg xmlns=\"http://www.w3.org/2000/svg\" height=\"24px\"viewBox=\"0 0 24 24\"\n",
              "     width=\"24px\">\n",
              "    <g>\n",
              "        <path d=\"M19 3H5c-1.1 0-2 .9-2 2v14c0 1.1.9 2 2 2h14c1.1 0 2-.9 2-2V5c0-1.1-.9-2-2-2zM9 17H7v-7h2v7zm4 0h-2V7h2v10zm4 0h-2v-4h2v4z\"/>\n",
              "    </g>\n",
              "</svg>\n",
              "  </button>\n",
              "\n",
              "<style>\n",
              "  .colab-df-quickchart {\n",
              "      --bg-color: #E8F0FE;\n",
              "      --fill-color: #1967D2;\n",
              "      --hover-bg-color: #E2EBFA;\n",
              "      --hover-fill-color: #174EA6;\n",
              "      --disabled-fill-color: #AAA;\n",
              "      --disabled-bg-color: #DDD;\n",
              "  }\n",
              "\n",
              "  [theme=dark] .colab-df-quickchart {\n",
              "      --bg-color: #3B4455;\n",
              "      --fill-color: #D2E3FC;\n",
              "      --hover-bg-color: #434B5C;\n",
              "      --hover-fill-color: #FFFFFF;\n",
              "      --disabled-bg-color: #3B4455;\n",
              "      --disabled-fill-color: #666;\n",
              "  }\n",
              "\n",
              "  .colab-df-quickchart {\n",
              "    background-color: var(--bg-color);\n",
              "    border: none;\n",
              "    border-radius: 50%;\n",
              "    cursor: pointer;\n",
              "    display: none;\n",
              "    fill: var(--fill-color);\n",
              "    height: 32px;\n",
              "    padding: 0;\n",
              "    width: 32px;\n",
              "  }\n",
              "\n",
              "  .colab-df-quickchart:hover {\n",
              "    background-color: var(--hover-bg-color);\n",
              "    box-shadow: 0 1px 2px rgba(60, 64, 67, 0.3), 0 1px 3px 1px rgba(60, 64, 67, 0.15);\n",
              "    fill: var(--button-hover-fill-color);\n",
              "  }\n",
              "\n",
              "  .colab-df-quickchart-complete:disabled,\n",
              "  .colab-df-quickchart-complete:disabled:hover {\n",
              "    background-color: var(--disabled-bg-color);\n",
              "    fill: var(--disabled-fill-color);\n",
              "    box-shadow: none;\n",
              "  }\n",
              "\n",
              "  .colab-df-spinner {\n",
              "    border: 2px solid var(--fill-color);\n",
              "    border-color: transparent;\n",
              "    border-bottom-color: var(--fill-color);\n",
              "    animation:\n",
              "      spin 1s steps(1) infinite;\n",
              "  }\n",
              "\n",
              "  @keyframes spin {\n",
              "    0% {\n",
              "      border-color: transparent;\n",
              "      border-bottom-color: var(--fill-color);\n",
              "      border-left-color: var(--fill-color);\n",
              "    }\n",
              "    20% {\n",
              "      border-color: transparent;\n",
              "      border-left-color: var(--fill-color);\n",
              "      border-top-color: var(--fill-color);\n",
              "    }\n",
              "    30% {\n",
              "      border-color: transparent;\n",
              "      border-left-color: var(--fill-color);\n",
              "      border-top-color: var(--fill-color);\n",
              "      border-right-color: var(--fill-color);\n",
              "    }\n",
              "    40% {\n",
              "      border-color: transparent;\n",
              "      border-right-color: var(--fill-color);\n",
              "      border-top-color: var(--fill-color);\n",
              "    }\n",
              "    60% {\n",
              "      border-color: transparent;\n",
              "      border-right-color: var(--fill-color);\n",
              "    }\n",
              "    80% {\n",
              "      border-color: transparent;\n",
              "      border-right-color: var(--fill-color);\n",
              "      border-bottom-color: var(--fill-color);\n",
              "    }\n",
              "    90% {\n",
              "      border-color: transparent;\n",
              "      border-bottom-color: var(--fill-color);\n",
              "    }\n",
              "  }\n",
              "</style>\n",
              "\n",
              "  <script>\n",
              "    async function quickchart(key) {\n",
              "      const quickchartButtonEl =\n",
              "        document.querySelector('#' + key + ' button');\n",
              "      quickchartButtonEl.disabled = true;  // To prevent multiple clicks.\n",
              "      quickchartButtonEl.classList.add('colab-df-spinner');\n",
              "      try {\n",
              "        const charts = await google.colab.kernel.invokeFunction(\n",
              "            'suggestCharts', [key], {});\n",
              "      } catch (error) {\n",
              "        console.error('Error during call to suggestCharts:', error);\n",
              "      }\n",
              "      quickchartButtonEl.classList.remove('colab-df-spinner');\n",
              "      quickchartButtonEl.classList.add('colab-df-quickchart-complete');\n",
              "    }\n",
              "    (() => {\n",
              "      let quickchartButtonEl =\n",
              "        document.querySelector('#df-5bd27f3f-cd54-4c16-a890-3417f5f6b7dd button');\n",
              "      quickchartButtonEl.style.display =\n",
              "        google.colab.kernel.accessAllowed ? 'block' : 'none';\n",
              "    })();\n",
              "  </script>\n",
              "</div>\n",
              "    </div>\n",
              "  </div>\n"
            ]
          },
          "metadata": {},
          "execution_count": 25
        }
      ]
    },
    {
      "cell_type": "code",
      "source": [
        "# Create a date range for the next year\n",
        "\n",
        "start_date = pd.to_datetime(\"2023-10-15\")\n",
        "end_date = start_date + pd.DateOffset(years=1)\n",
        "date_range = pd.date_range(start=start_date, end=end_date, freq=\"D\")\n",
        "\n",
        "# Create synthetic forex data\n",
        "np.random.seed(0)\n",
        "data = {\n",
        "    \"Date\": date_range,\n",
        "    \"Open\": np.random.normal(1.1, 0.05, len(date_range)),   # Simulated opening price\n",
        "    \"High\": np.random.normal(1.2, 0.05, len(date_range)),   # Simulated highest price\n",
        "    \"Low\": np.random.normal(1.0, 0.05, len(date_range)),    # Simulated lowest price\n",
        "    \"Close\": np.random.normal(1.1, 0.05, len(date_range)),  # Simulated closing price\n",
        "    \"Adj Close\": np.random.normal(1.1, 0.05, len(date_range)),  # Simulated adjusted closing price\n",
        "    \"Volume\": np.random.normal(1000000, 50000, len(date_range)),  # Simulated trading volume\n",
        "}\n",
        "\n",
        "# Create a DataFrame\n",
        "df = pd.DataFrame(data)\n",
        "\n",
        "# Normalize the data\n",
        "scaler = StandardScaler()\n",
        "df[[\"Open\", \"High\", \"Low\", \"Close\", \"Adj Close\", \"Volume\"]] = scaler.fit_transform(df[[\"Open\", \"High\", \"Low\", \"Close\", \"Adj Close\", \"Volume\"]])\n",
        "df = df.set_index('Date')"
      ],
      "metadata": {
        "id": "GcWuGRRfdvFh"
      },
      "execution_count": null,
      "outputs": []
    },
    {
      "cell_type": "code",
      "source": [
        "#the above dataset is a simplified one.\n",
        "start_date = pd.to_datetime(\"2023-10-15\")\n",
        "end_date = start_date + pd.DateOffset(years=1)\n",
        "date_range = pd.date_range(start=start_date, end=end_date, freq=\"D\")\n",
        "\n",
        "# Create synthetic forex data with trend and seasonality\n",
        "np.random.seed(0)\n",
        "n_days = len(date_range)\n",
        "t = np.arange(n_days)\n",
        "trend = 0.001 * t  # Simulated linear trend\n",
        "seasonality = 0.02 * np.sin(2 * np.pi * t / 365)  # Simulated annual seasonality\n",
        "noise = np.random.normal(0, 0.01, n_days)  # Random noise\n",
        "\n",
        "# Create the synthetic data\n",
        "data = {\n",
        "    \"Date\": date_range,\n",
        "    \"Open\": 1.1 + trend + seasonality + noise,\n",
        "    \"High\": 1.2 + trend + seasonality + noise,\n",
        "    \"Low\": 1.0 + trend + seasonality + noise,\n",
        "    \"Close\": 1.1 + trend + seasonality + noise,\n",
        "    \"Adj Close\": 1.1 + trend + seasonality + noise,\n",
        "    \"Volume\": 1000000 + 10000 * np.random.normal(size=n_days),\n",
        "}\n",
        "\n",
        "# Create a DataFrame\n",
        "df = pd.DataFrame(data)\n",
        "\n",
        "# Normalize the data\n",
        "scaler = StandardScaler()\n",
        "df[[\"Open\", \"High\", \"Low\", \"Close\", \"Adj Close\", \"Volume\"]] = scaler.fit_transform(df[[\"Open\", \"High\", \"Low\", \"Close\", \"Adj Close\", \"Volume\"]])\n",
        "df = df.set_index('Date')"
      ],
      "metadata": {
        "id": "yO-QE5plK4cE"
      },
      "execution_count": null,
      "outputs": []
    },
    {
      "cell_type": "code",
      "source": [
        "start_date = pd.to_datetime(\"2023-10-15\")\n",
        "end_date = start_date + pd.DateOffset(years=1)\n",
        "date_range = pd.date_range(start=start_date, end=end_date, freq=\"D\")\n",
        "\n",
        "# Create synthetic forex data with added complexity\n",
        "np.random.seed(0)\n",
        "n_days = len(date_range)\n",
        "t = np.arange(n_days)\n",
        "trend = 0.001 * t  # Simulated linear trend\n",
        "seasonality = 0.02 * np.sin(2 * np.pi * t / 365)  # Simulated annual seasonality\n",
        "volatility = 0.02 * np.random.normal(size=n_days)  # Added volatility\n",
        "noise = 0.01 * np.random.normal(size=n_days)  # Random noise\n",
        "\n",
        "# Create the synthetic data\n",
        "data = {\n",
        "    \"Date\": date_range,\n",
        "    \"Open\": 1.1 + trend + seasonality + volatility + noise,\n",
        "    \"High\": 1.2 + trend + seasonality + volatility + noise,\n",
        "    \"Low\": 1.0 + trend + seasonality + volatility + noise,\n",
        "    \"Close\": 1.1 + trend + seasonality + volatility + noise,\n",
        "    \"Adj Close\": 1.1 + trend + seasonality + volatility + noise,\n",
        "    \"Volume\": 1000000 + 10000 * np.random.normal(size=n_days),\n",
        "}\n",
        "\n",
        "# Create a DataFrame\n",
        "df = pd.DataFrame(data)\n",
        "\n",
        "# Normalize the data\n",
        "scaler = StandardScaler()\n",
        "df[[\"Open\", \"High\", \"Low\", \"Close\", \"Adj Close\", \"Volume\"]] = scaler.fit_transform(df[[\"Open\", \"High\", \"Low\", \"Close\", \"Adj Close\", \"Volume\"]])\n",
        "df = df.set_index('Date')"
      ],
      "metadata": {
        "id": "Balho0rnOWJP"
      },
      "execution_count": null,
      "outputs": []
    },
    {
      "cell_type": "code",
      "source": [
        "start_date = pd.to_datetime(\"2023-10-15\")\n",
        "end_date = start_date + pd.DateOffset(years=1)\n",
        "date_range = pd.date_range(start=start_date, end=end_date, freq=\"D\")\n",
        "\n",
        "# Create synthetic forex data with added complexity\n",
        "np.random.seed(0)\n",
        "n_days = len(date_range)\n",
        "t = np.arange(n_days)\n",
        "trend = 0.001 * t  # Simulated linear trend\n",
        "seasonality = 0.02 * np.sin(2 * np.pi * t / 365)  # Simulated annual seasonality\n",
        "volatility = 0.02 * np.random.normal(size=n_days)  # Daily volatility\n",
        "autocorrelation = 0.2 * np.random.normal(size=n_days)  # Autocorrelation\n",
        "events = np.zeros(n_days)  # Simulated events\n",
        "\n",
        "# Introduce some events\n",
        "event_indices = [30, 90, 180, 250]  # Days with events\n",
        "event_magnitudes = [0.03, -0.02, 0.04, -0.03]  # Event magnitudes\n",
        "for i, index in enumerate(event_indices):\n",
        "    events[index] = event_magnitudes[i]\n",
        "\n",
        "noise = 0.01 * np.random.normal(size=n_days)  # Random noise\n",
        "\n",
        "# Create the synthetic data\n",
        "data = {\n",
        "    \"Date\": date_range,\n",
        "    \"Open\": 1.1 + trend + seasonality + volatility  + events + noise,\n",
        "    \"High\": 1.2 + trend + seasonality + volatility  + events + noise,\n",
        "    \"Low\": 1.0 + trend + seasonality + volatility  + events + noise,\n",
        "    \"Close\": 1.1 + trend + seasonality + volatility  + events + noise,\n",
        "    \"Adj Close\": 1.1 + trend + seasonality + volatility  + events + noise,\n",
        "    \"Volume\": 1000000 + 10000 * np.random.normal(size=n_days),\n",
        "}\n",
        "\n",
        "# Create a DataFrame\n",
        "df = pd.DataFrame(data)\n",
        "\n",
        "# Normalize the data\n",
        "scaler = StandardScaler()\n",
        "df[[\"Open\", \"High\", \"Low\", \"Close\", \"Adj Close\", \"Volume\"]] = scaler.fit_transform(df[[\"Open\", \"High\", \"Low\", \"Close\", \"Adj Close\", \"Volume\"]])\n",
        "df = df.set_index('Date')"
      ],
      "metadata": {
        "id": "BD_3CwjtPJIF"
      },
      "execution_count": null,
      "outputs": []
    },
    {
      "cell_type": "code",
      "execution_count": null,
      "metadata": {
        "colab": {
          "base_uri": "https://localhost:8080/"
        },
        "id": "TFS0UT9yKxJz",
        "outputId": "17ab74fd-76bb-40a7-faae-810f4a29cdbf"
      },
      "outputs": [
        {
          "output_type": "stream",
          "name": "stdout",
          "text": [
            "6/6 [==============================] - 0s 7ms/step\n"
          ]
        }
      ],
      "source": [
        "test_df = df\n",
        "test_df = normalize_data(test_df)\n",
        "multi_window = WindowGenerator(test_df,input_width=n_steps,\n",
        "                               label_width=1,\n",
        "                               shift=1)\n",
        "multi_window.test2 = multi_window.make_dataset(test_df)\n",
        "predictions = feedback_model.predict(multi_window.test2)"
      ]
    },
    {
      "cell_type": "code",
      "source": [
        "len(predictions)"
      ],
      "metadata": {
        "colab": {
          "base_uri": "https://localhost:8080/"
        },
        "id": "oJLGZFSM-MHz",
        "outputId": "56468f49-3e6e-4ec4-991c-16b52b9f2c35"
      },
      "execution_count": null,
      "outputs": [
        {
          "output_type": "execute_result",
          "data": {
            "text/plain": [
              "365"
            ]
          },
          "metadata": {},
          "execution_count": 31
        }
      ]
    },
    {
      "cell_type": "code",
      "source": [
        "predictions"
      ],
      "metadata": {
        "id": "3449E0wspLG8",
        "colab": {
          "base_uri": "https://localhost:8080/"
        },
        "outputId": "bb4ac1cd-51a5-407a-d215-99447bd9ec48"
      },
      "execution_count": null,
      "outputs": [
        {
          "output_type": "execute_result",
          "data": {
            "text/plain": [
              "array([[[0.46627837, 0.4887013 , 0.26811177, 0.5394883 , 0.37454635,\n",
              "         0.0456628 ],\n",
              "        [0.25883266, 0.15579195, 0.        , 0.29640204, 0.        ,\n",
              "         0.        ]],\n",
              "\n",
              "       [[0.38541287, 0.3659904 , 0.        , 0.42778736, 0.02128696,\n",
              "         0.        ],\n",
              "        [0.33210716, 0.12572376, 0.        , 0.3375635 , 0.        ,\n",
              "         0.61047053]],\n",
              "\n",
              "       [[0.36925724, 0.3507349 , 0.12354643, 0.3959828 , 0.18253553,\n",
              "         0.19868696],\n",
              "        [0.25620124, 0.15133482, 0.        , 0.2713641 , 0.        ,\n",
              "         0.27882355]],\n",
              "\n",
              "       ...,\n",
              "\n",
              "       [[0.80590427, 0.820137  , 1.0449722 , 0.7939955 , 1.6900065 ,\n",
              "         0.        ],\n",
              "        [0.6862613 , 0.72055525, 0.9390464 , 0.6847619 , 1.5796003 ,\n",
              "         0.        ]],\n",
              "\n",
              "       [[0.80388385, 0.8037192 , 0.98584735, 0.787861  , 1.6304476 ,\n",
              "         0.        ],\n",
              "        [0.68323135, 0.6971614 , 0.93289936, 0.67690444, 1.5773269 ,\n",
              "         0.00256781]],\n",
              "\n",
              "       [[0.75491035, 0.7669114 , 0.9646638 , 0.7359243 , 1.5580621 ,\n",
              "         0.04287504],\n",
              "        [0.6916499 , 0.7282878 , 0.980844  , 0.69922966, 1.6095636 ,\n",
              "         0.        ]]], dtype=float32)"
            ]
          },
          "metadata": {},
          "execution_count": 32
        }
      ]
    },
    {
      "cell_type": "code",
      "source": [
        "comp = pd.DataFrame({'Column1':predictions[:,-1,:][:,3]})\n",
        "plt.figure(figsize=(20,5))\n",
        "plt.plot(comp['Column1'], color='red', label='Prediction')\n",
        "plt.legend()\n",
        "plt.show()"
      ],
      "metadata": {
        "colab": {
          "base_uri": "https://localhost:8080/",
          "height": 395
        },
        "id": "tMKiuNCT-Yf6",
        "outputId": "4b4e01e5-a19f-4157-8b20-105afe18d97a"
      },
      "execution_count": null,
      "outputs": [
        {
          "output_type": "display_data",
          "data": {
            "text/plain": [
              "<Figure size 2000x500 with 1 Axes>"
            ],
            "image/png": "[encoded data removed]"
          },
          "metadata": {}
        }
      ]
    }
  ],
  "metadata": {
    "accelerator": "GPU",
    "colab": {
      "provenance": [],
      "include_colab_link": true
    },
    "kernelspec": {
      "display_name": "Python 3",
      "name": "python3"
    },
    "language_info": {
      "name": "python"
    }
  },
  "nbformat": 4,
  "nbformat_minor": 0
}