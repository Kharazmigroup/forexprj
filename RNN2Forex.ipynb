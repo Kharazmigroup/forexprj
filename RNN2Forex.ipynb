{
  "cells": [
    {
      "cell_type": "markdown",
      "metadata": {
        "id": "view-in-github",
        "colab_type": "text"
      },
      "source": [
        "<a href=\"https://colab.research.google.com/github/Kharazmigroup/forexprj/blob/main/RNN2Forex.ipynb\" target=\"_parent\"><img src=\"https://colab.research.google.com/assets/colab-badge.svg\" alt=\"Open In Colab\"/></a>"
      ]
    },
    {
      "cell_type": "code",
      "execution_count": null,
      "metadata": {
        "id": "BcjqXsnLqTLO"
      },
      "outputs": [],
      "source": [
        "#import all libraries\n",
        "import numpy as np\n",
        "import pandas as pd\n",
        "import math\n",
        "import sklearn\n",
        "import sklearn.preprocessing\n",
        "import datetime\n",
        "import os\n",
        "import matplotlib.pyplot as plt\n",
        "import tensorflow as tf\n",
        "from tensorflow.keras import datasets, layers, models\n",
        "import yfinance as yf\n",
        "from keras.models import Sequential\n",
        "from keras.layers import Dense\n",
        "from keras.layers import SimpleRNN,RNN\n",
        "from keras.layers import Dropout\n",
        "import IPython\n",
        "import IPython.display\n",
        "from math import floor"
      ]
    },
    {
      "cell_type": "code",
      "execution_count": null,
      "metadata": {
        "id": "w16y7K87IeTe"
      },
      "outputs": [],
      "source": [
        "#set hyper parameters.there is a sequence. the network sees the input days and predicts the other days. seq_len is the sum of inputs and offsets.\n",
        "seq_len = 3 # taken sequence length as 3\n",
        "n_steps = seq_len - 1\n",
        "n_neurons = 800\n",
        "n_layers = 3\n",
        "learning_rate = 0.000094\n",
        "batch_size = 64\n",
        "dropout_rate = 0.2\n",
        "num_features = 6"
      ]
    },
    {
      "cell_type": "markdown",
      "source": [
        "For example, to make a single prediction 24 hours into the future, given 24 hours of history, you might define a window like this:\n",
        "\n",
        "![image.png](data:image/png;base64,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)"
      ],
      "metadata": {
        "id": "DRjD2gV3jahs"
      }
    },
    {
      "cell_type": "code",
      "execution_count": null,
      "metadata": {
        "id": "lFLxcXfgrlA5"
      },
      "outputs": [],
      "source": [
        "#\n",
        "def normalize_data(df):\n",
        "    min_max_scaler = sklearn.preprocessing.MinMaxScaler()\n",
        "    df['Open'] = min_max_scaler.fit_transform(df.Open.values.reshape(-1,1))\n",
        "    df['High'] = min_max_scaler.fit_transform(df.High.values.reshape(-1,1))\n",
        "    df['Low'] = min_max_scaler.fit_transform(df.Low.values.reshape(-1,1))\n",
        "    df['Close'] = min_max_scaler.fit_transform(df['Close'].values.reshape(-1,1))\n",
        "    return df"
      ]
    },
    {
      "cell_type": "code",
      "execution_count": null,
      "metadata": {
        "id": "IGX9rqe6P1w_"
      },
      "outputs": [],
      "source": [
        "def spilitData(df_stock_norm):\n",
        "  n = len(df_stock_norm)\n",
        "  train_df = df_stock_norm[0:int(n*0.8)]\n",
        "  val_df = df_stock_norm[int(n*0.8):int(n*0.9)]\n",
        "  test_df = df_stock_norm[int(n*0.9):]\n",
        "\n",
        "  num_features = df_stock_norm.shape[1]\n",
        "  return train_df,val_df,test_df"
      ]
    },
    {
      "cell_type": "code",
      "execution_count": null,
      "metadata": {
        "id": "f9rrr_tBJZ0S"
      },
      "outputs": [],
      "source": [
        "class WindowGenerator():\n",
        "\n",
        "  def __init__(self,df,input_width, label_width, shift,label_columns=None):\n",
        "    # Work out the label column indices.\n",
        "    self.column_indices ={name: i for i, name in enumerate(df.columns)}\n",
        "    self.label_columns = label_columns\n",
        "    if label_columns is not None:\n",
        "      self.label_columns_indices = {name: i for i, name in\n",
        "                                    enumerate(label_columns)}\n",
        "    self.column_indices = {name: i for i, name in\n",
        "                           enumerate(df.columns)}\n",
        "\n",
        "    # Work out the window parameters.\n",
        "    self.input_width = input_width\n",
        "    self.label_width = label_width\n",
        "    self.shift = shift\n",
        "\n",
        "    self.total_window_size = input_width + shift\n",
        "\n",
        "    self.input_slice = slice(0, input_width)\n",
        "    self.input_indices = np.arange(self.total_window_size)[self.input_slice]\n",
        "\n",
        "    self.label_start = self.total_window_size - self.label_width\n",
        "    self.labels_slice = slice(self.label_start, None)\n",
        "    self.label_indices = np.arange(self.total_window_size)[self.labels_slice]\n",
        "\n",
        "  def __repr__(self):\n",
        "    return '\\n'.join([\n",
        "        f'Total window size: {self.total_window_size}',\n",
        "        f'Input indices: {self.input_indices}',\n",
        "        f'Label indices: {self.label_indices}',\n",
        "        f'Label column name(s): {self.label_columns}'])"
      ]
    },
    {
      "cell_type": "code",
      "execution_count": null,
      "metadata": {
        "id": "AMfvl3aoOguT"
      },
      "outputs": [],
      "source": [
        "def split_window(self, features):\n",
        "  inputs = features[:, self.input_slice, :]\n",
        "  labels = features[:, self.labels_slice, :]\n",
        "  if self.label_columns is not None:\n",
        "    labels = tf.stack(\n",
        "        [labels[:, :, self.column_indices[name]] for name in self.label_columns],\n",
        "        axis=-1)\n",
        "\n",
        "  # Slicing doesn't preserve static shape information, so set the shapes\n",
        "  # manually. This way the `tf.data.Datasets` are easier to inspect.\n",
        "  inputs.set_shape([None, self.input_width, None])\n",
        "  labels.set_shape([None, self.label_width, None])\n",
        "  return inputs, labels\n",
        "\n",
        "WindowGenerator.split_window = split_window"
      ]
    },
    {
      "cell_type": "code",
      "execution_count": null,
      "metadata": {
        "id": "jMJ-3TLyTkCn"
      },
      "outputs": [],
      "source": [
        "def make_dataset(self, data):\n",
        "\n",
        "  data = np.array(data, dtype=np.float32)\n",
        "\n",
        "  ds = tf.keras.utils.timeseries_dataset_from_array(\n",
        "        data=data,\n",
        "        targets=None,\n",
        "        sequence_length=self.total_window_size,\n",
        "        sequence_stride=1,\n",
        "        shuffle=False,\n",
        "        batch_size= batch_size)\n",
        "\n",
        "  ds = ds.map(self.split_window)\n",
        "  return ds\n",
        "\n",
        "WindowGenerator.make_dataset = make_dataset"
      ]
    },
    {
      "cell_type": "code",
      "execution_count": null,
      "metadata": {
        "id": "D5D-_O45WfQU"
      },
      "outputs": [],
      "source": [
        "class FeedBack(tf.keras.Model):\n",
        "  def __init__(self, units, out_steps):\n",
        "    super().__init__()\n",
        "    self.out_steps = out_steps\n",
        "    self.units = units\n",
        "    layers = [tf.keras.layers.SimpleRNNCell(units=n_neurons)\n",
        "         for layer in range(n_layers)]\n",
        "    self.lstm_cell = tf.keras.layers.StackedRNNCells(layers)\n",
        "    # Also wrap the LSTMCell in an RNN to simplify the `warmup` method.\n",
        "    self.lstm_rnn = tf.keras.layers.RNN(self.lstm_cell, return_state=True)\n",
        "    self.dropout = tf.keras.layers.Dropout(dropout_rate)\n",
        "    #self.dense1 = tf.keras.layers.Dense(64, activation='relu')\n",
        "    #self.dense2 = tf.keras.layers.Dense(32, activation='relu')\n",
        "    #self.dropout2 = tf.keras.layers.Dropout(dropout_rate)\n",
        "    #self.output_layer = tf.keras.layers.Dense(num_features, activation='linear')\n",
        "    self.dense = tf.keras.layers.Dense(num_features,activation = 'relu')"
      ]
    },
    {
      "cell_type": "code",
      "execution_count": null,
      "metadata": {
        "id": "6jFv659AWuRT"
      },
      "outputs": [],
      "source": [
        "feedback_model = FeedBack(units=n_neurons, out_steps = n_steps)"
      ]
    },
    {
      "cell_type": "code",
      "execution_count": null,
      "metadata": {
        "id": "58cCnZNcO3Kk"
      },
      "outputs": [],
      "source": [
        "def warmup(self, inputs):\n",
        "  # inputs.shape => (batch, time, features)\n",
        "  # x.shape => (batch, lstm_units)\n",
        "  x, *state = self.lstm_rnn(inputs)\n",
        "  # predictions.shape => (batch, features)\n",
        "  prediction = self.dense(x)\n",
        "\n",
        "  return prediction, state\n",
        "\n",
        "FeedBack.warmup = warmup"
      ]
    },
    {
      "cell_type": "code",
      "execution_count": null,
      "metadata": {
        "id": "o7GXkkaMO75f"
      },
      "outputs": [],
      "source": [
        "def call(self, inputs, training=None):\n",
        "  # Use a TensorArray to capture dynamically unrolled outputs.\n",
        "  predictions = []\n",
        "  # Initialize the LSTM state.\n",
        "  prediction, state = self.warmup(inputs)\n",
        "\n",
        "  # Insert the first prediction.\n",
        "  predictions.append(prediction)\n",
        "\n",
        "  # Run the rest of the prediction steps.\n",
        "  for n in range(1, self.out_steps):\n",
        "    # Use the last prediction as input.\n",
        "    x = prediction\n",
        "    # Execute one lstm step.\n",
        "    x, state = self.lstm_cell(x, states=state,\n",
        "                          training=training)\n",
        "    if training:\n",
        "      x = self.dropout(x)\n",
        "    # Convert the lstm output to a prediction.\n",
        "    prediction = self.dense(x)\n",
        "    # Add the prediction to the output.\n",
        "    predictions.append(prediction)\n",
        "\n",
        "  # predictions.shape => (time, batch, features)\n",
        "  predictions = tf.stack(predictions)\n",
        "  # predictions.shape => (batch, time, features)\n",
        "  predictions = tf.transpose(predictions, [1, 0, 2])\n",
        "  return predictions\n",
        "\n",
        "FeedBack.call = call"
      ]
    },
    {
      "cell_type": "code",
      "execution_count": null,
      "metadata": {
        "id": "AUiiZi8oXN3z"
      },
      "outputs": [],
      "source": [
        "#MAX_EPOCHS = 150\n",
        "\n",
        "def compile_and_fit(model, window,epoch, patience=10):\n",
        "  early_stopping = tf.keras.callbacks.EarlyStopping(monitor='val_loss',\n",
        "                                                    patience=patience,\n",
        "                                                    mode='min')\n",
        "\n",
        "  model.compile(loss=tf.keras.losses.MeanSquaredError(),\n",
        "                optimizer=tf.keras.optimizers.Adam(learning_rate = learning_rate),\n",
        "                metrics=[tf.keras.metrics.MeanAbsoluteError()])\n",
        "\n",
        "  history = model.fit(window.train, epochs=epoch,\n",
        "                      validation_data=window.val,\n",
        "                      callbacks=[early_stopping])\n",
        "  return history"
      ]
    },
    {
      "cell_type": "code",
      "execution_count": null,
      "metadata": {
        "id": "x9KkhgHTsCBA"
      },
      "outputs": [],
      "source": [
        " def get_input_Labels(ds):\n",
        "  ds_inputs = []\n",
        "  ds_labels = []\n",
        "  for inputs, labels in ds:\n",
        "      ds_inputs.append(inputs.numpy())\n",
        "      ds_labels.append(labels.numpy())\n",
        "  batch_input = []\n",
        "  batch_labels = []\n",
        "  for i in range(len(ds_labels)):\n",
        "    for j in range(len(ds_labels[i])):\n",
        "      batch_labels.append(ds_labels[i][j])\n",
        "      batch_input.append(ds_inputs[i][j])\n",
        "  return np.array(batch_input),np.array(batch_labels)"
      ]
    },
    {
      "cell_type": "code",
      "execution_count": null,
      "metadata": {
        "id": "vEee0rHzWEQX"
      },
      "outputs": [],
      "source": [
        "def plot_target_predict(test_labels,predictions):\n",
        "  # ploting the graph\n",
        "  comp = pd.DataFrame({'Column1':test_labels[:,-1,:][:,3],'Column2':predictions[:,-1,:][:,3]})\n",
        "  plt.figure(figsize=(20,5))\n",
        "  plt.plot(comp['Column1'], color='orange', label='Target')\n",
        "  plt.plot(comp['Column2'], color='red', label='Prediction')\n",
        "  plt.legend()\n",
        "  plt.show()"
      ]
    },
    {
      "cell_type": "code",
      "execution_count": null,
      "metadata": {
        "id": "JiXZKIYZOsmT"
      },
      "outputs": [],
      "source": [
        "def plot(history):\n",
        "  acc = history.history['mean_absolute_error']\n",
        "  val_acc = history.history['val_mean_absolute_error']\n",
        "\n",
        "  loss = history.history['loss']\n",
        "  val_loss = history.history['val_loss']\n",
        "\n",
        "  epochs = range(1, len(acc) + 1)\n",
        "\n",
        "  plt.figure(figsize=(20, 8))\n",
        "  plt.subplot(1, 2, 1)\n",
        "  plt.plot(epochs, acc, label='Training Accuracy')\n",
        "  plt.plot(epochs, val_acc, label='Validation Accuracy')\n",
        "  plt.legend(loc='lower right')\n",
        "  plt.title('Training and Validation Accuracy')\n",
        "\n",
        "  plt.subplot(1, 2, 2)\n",
        "  plt.plot(epochs, loss, label='Training Loss')\n",
        "  plt.plot(epochs, val_loss, label='Validation Loss')\n",
        "  plt.legend(loc='upper right')\n",
        "  plt.title('Training and Validation Loss')\n",
        "  plt.show()"
      ]
    },
    {
      "cell_type": "code",
      "execution_count": null,
      "metadata": {
        "id": "oblpt21tfD6b"
      },
      "outputs": [],
      "source": [
        "def calculate_profit(predictions,test_inputs):\n",
        "  amount_of_profit = 0\n",
        "  for i in range(1,len(predictions)):\n",
        "    if (test_inputs[i,-1,3] > test_inputs[i-1,-1,3]):\n",
        "      if(test_inputs[i-1,-1,3]==0):\n",
        "            print(\"i zero...else...\"+str(i))\n",
        "      else:\n",
        "        if(predictions[i,-1,3] > test_inputs[i-1,-1,3]):\n",
        "          amount_of_profit += ((min(predictions[i,-1,3],test_inputs[i,-1,3])-test_inputs[i-1,-1,3])/test_inputs[i-1,-1,3]) *10000\n",
        "        else:\n",
        "          amount_of_profit += -((test_inputs[i,-1,3] - test_inputs[i-1,-1,3])/test_inputs[i-1,-1,3] * 10000)\n",
        "    else:\n",
        "      if(test_inputs[i-1,-1,3]==0):\n",
        "            print(\"i zero...else...\"+str(i))\n",
        "      else:\n",
        "        if (predictions[i,-1,3] <test_inputs[i-1,-1,3] ):\n",
        "          amount_of_profit += (test_inputs[i-1,-1,3] - max(predictions[i,-1,3],test_inputs[i,-1,3]))/test_inputs[i-1,-1,3] * 10000\n",
        "        else:\n",
        "          amount_of_profit += (test_inputs[i,-1,3]-test_inputs[i-1,-1,3])/test_inputs[i-1,-1,3]*1000\n",
        "  return amount_of_profit"
      ]
    },
    {
      "cell_type": "code",
      "execution_count": null,
      "metadata": {
        "id": "lxBo7arRJUvm"
      },
      "outputs": [],
      "source": [
        "def dynamicLSTM(window,test_inputs,test_labels):\n",
        "  train_inputs,train_labels = get_input_Labels(window.train)\n",
        "  len_recent_data = 10\n",
        "  i = 0\n",
        "  new_predictions = np.empty(shape = (0,n_steps,num_features))\n",
        "  print(\"len new pre...\"+str(len(new_predictions)))\n",
        "  iteration = floor(len(test_inputs)/len_recent_data)\n",
        "  while i < iteration*len_recent_data :\n",
        "      npredictions = feedback_model.predict(test_inputs[i:i+len_recent_data])\n",
        "      new_predictions = np.concatenate((new_predictions, npredictions), axis=0)\n",
        "      combined_data = np.concatenate((train_inputs, test_inputs[i:i+len_recent_data]), axis=0)\n",
        "      combined_data_labels = np.concatenate((train_labels, test_labels[i:i+len_recent_data]), axis=0)\n",
        "      window.train = window.make_dataset(combined_data[:,-1,:],64)\n",
        "      feedback_model.compile(loss=tf.keras.losses.MeanSquaredError(),\n",
        "                  optimizer=tf.keras.optimizers.Adam(learning_rate = learning_rate),\n",
        "                  metrics=[tf.keras.metrics.MeanAbsoluteError()])\n",
        "\n",
        "      history = feedback_model.fit(combined_data,combined_data_labels, epochs=7,\n",
        "                        validation_data=window.val)\n",
        "      i += len_recent_data\n",
        "      print(\"itrration.....\"+str(i))\n",
        "  print(\"last i....\"+str(i))\n",
        "  npredictions = feedback_model.predict(test_inputs[i:])\n",
        "  new_predictions = np.concatenate((new_predictions, npredictions), axis=0)\n",
        "  plot_target_predict(test_labels,new_predictions)\n",
        "  amount_of_profit = calculate_profit(new_predictions ,test_inputs)\n",
        "  print(\"amount of profit....dynamic LSTM...\"+str(amount_of_profit))"
      ]
    },
    {
      "cell_type": "code",
      "execution_count": null,
      "metadata": {
        "id": "0hvwXZSnP67_"
      },
      "outputs": [],
      "source": [
        "\n",
        "def run_model(cur_pair,start,end,interval,epoch):\n",
        "  df_stock = yf.download(cur_pair, start, end ,interval)\n",
        "  data = normalize_data(df_stock)\n",
        "  mask = (df_stock.drop(columns=['Volume']) == 0).any(axis=1)\n",
        "  removed_rows = df_stock[mask]\n",
        "  df_stock = df_stock[~mask]\n",
        "\n",
        "  # Display the removed rows\n",
        "  print(\"Removed Rows:\")\n",
        "  print(removed_rows)\n",
        "  train_df,val_df,test_df = spilitData(data)\n",
        "  multi_window = WindowGenerator(train_df,input_width=n_steps,\n",
        "                               label_width=1,\n",
        "                               shift=1)\n",
        "  multi_window.train = multi_window.make_dataset(train_df)\n",
        "  multi_window.val = multi_window.make_dataset(val_df)\n",
        "  multi_window.test = multi_window.make_dataset(test_df)\n",
        "  history = compile_and_fit(feedback_model, multi_window,epoch)\n",
        "  predictions = feedback_model.predict(multi_window.test)\n",
        "  test_inputs,test_labels = get_input_Labels(multi_window.test)\n",
        "  plot_target_predict(test_labels,predictions)\n",
        "  profit = calculate_profit(predictions,test_inputs)\n",
        "  print(\"profit....\"+str(profit))"
      ]
    },
    {
      "cell_type": "code",
      "execution_count": null,
      "metadata": {
        "colab": {
          "base_uri": "https://localhost:8080/",
          "height": 1000
        },
        "id": "bCAfazWsZlWd",
        "outputId": "761cda00-a2b7-45fa-a11d-fc221ee66a76"
      },
      "outputs": [
        {
          "output_type": "stream",
          "name": "stdout",
          "text": [
            "\r[*********************100%%**********************]  1 of 1 completed\n",
            "Removed Rows:\n",
            "                Open      High       Low     Close  Adj Close  Volume\n",
            "Date                                                                 \n",
            "2008-03-17  0.963385  0.980316  0.000000  0.962460   1.574803       0\n",
            "2022-09-27  0.004310  0.000000  0.585375  0.004306   0.962371       0\n",
            "2022-09-28  0.000000  0.002549  0.581785  0.000000   0.959619       0\n",
            "Epoch 1/100\n",
            "65/65 [==============================] - 15s 31ms/step - loss: 0.0942 - mean_absolute_error: 0.2035 - val_loss: 0.0234 - val_mean_absolute_error: 0.1064\n",
            "Epoch 2/100\n",
            "65/65 [==============================] - 1s 15ms/step - loss: 0.0533 - mean_absolute_error: 0.1354 - val_loss: 0.0200 - val_mean_absolute_error: 0.0844\n",
            "Epoch 3/100\n",
            "65/65 [==============================] - 1s 14ms/step - loss: 0.0373 - mean_absolute_error: 0.0965 - val_loss: 0.0215 - val_mean_absolute_error: 0.0831\n",
            "Epoch 4/100\n",
            "65/65 [==============================] - 1s 14ms/step - loss: 0.0273 - mean_absolute_error: 0.0764 - val_loss: 0.0103 - val_mean_absolute_error: 0.0491\n",
            "Epoch 5/100\n",
            "65/65 [==============================] - 1s 15ms/step - loss: 0.0248 - mean_absolute_error: 0.0675 - val_loss: 0.0099 - val_mean_absolute_error: 0.0468\n",
            "Epoch 6/100\n",
            "65/65 [==============================] - 1s 14ms/step - loss: 0.0242 - mean_absolute_error: 0.0646 - val_loss: 0.0110 - val_mean_absolute_error: 0.0540\n",
            "Epoch 7/100\n",
            "65/65 [==============================] - 1s 14ms/step - loss: 0.0242 - mean_absolute_error: 0.0637 - val_loss: 0.0108 - val_mean_absolute_error: 0.0524\n",
            "Epoch 8/100\n",
            "65/65 [==============================] - 1s 16ms/step - loss: 0.0197 - mean_absolute_error: 0.0696 - val_loss: 0.0097 - val_mean_absolute_error: 0.0559\n",
            "Epoch 9/100\n",
            "65/65 [==============================] - 1s 14ms/step - loss: 0.0056 - mean_absolute_error: 0.0473 - val_loss: 0.0028 - val_mean_absolute_error: 0.0345\n",
            "Epoch 10/100\n",
            "65/65 [==============================] - 1s 22ms/step - loss: 0.0019 - mean_absolute_error: 0.0282 - val_loss: 0.0016 - val_mean_absolute_error: 0.0292\n",
            "Epoch 11/100\n",
            "65/65 [==============================] - 1s 19ms/step - loss: 0.0019 - mean_absolute_error: 0.0278 - val_loss: 0.0033 - val_mean_absolute_error: 0.0384\n",
            "Epoch 12/100\n",
            "65/65 [==============================] - 1s 15ms/step - loss: 0.0015 - mean_absolute_error: 0.0233 - val_loss: 6.1587e-04 - val_mean_absolute_error: 0.0163\n",
            "Epoch 13/100\n",
            "65/65 [==============================] - 1s 14ms/step - loss: 0.0011 - mean_absolute_error: 0.0202 - val_loss: 7.3675e-04 - val_mean_absolute_error: 0.0180\n",
            "Epoch 14/100\n",
            "65/65 [==============================] - 1s 14ms/step - loss: 9.1946e-04 - mean_absolute_error: 0.0182 - val_loss: 1.8353e-04 - val_mean_absolute_error: 0.0092\n",
            "Epoch 15/100\n",
            "65/65 [==============================] - 1s 15ms/step - loss: 8.4626e-04 - mean_absolute_error: 0.0177 - val_loss: 5.3521e-04 - val_mean_absolute_error: 0.0158\n",
            "Epoch 16/100\n",
            "65/65 [==============================] - 1s 14ms/step - loss: 9.0790e-04 - mean_absolute_error: 0.0185 - val_loss: 4.7759e-04 - val_mean_absolute_error: 0.0153\n",
            "Epoch 17/100\n",
            "65/65 [==============================] - 1s 14ms/step - loss: 0.0014 - mean_absolute_error: 0.0227 - val_loss: 0.0010 - val_mean_absolute_error: 0.0182\n",
            "Epoch 18/100\n",
            "65/65 [==============================] - 1s 14ms/step - loss: 9.5862e-04 - mean_absolute_error: 0.0189 - val_loss: 3.2583e-04 - val_mean_absolute_error: 0.0131\n",
            "Epoch 19/100\n",
            "65/65 [==============================] - 1s 14ms/step - loss: 0.0010 - mean_absolute_error: 0.0197 - val_loss: 8.6624e-04 - val_mean_absolute_error: 0.0188\n",
            "Epoch 20/100\n",
            "65/65 [==============================] - 1s 15ms/step - loss: 0.0012 - mean_absolute_error: 0.0208 - val_loss: 8.2099e-04 - val_mean_absolute_error: 0.0179\n",
            "Epoch 21/100\n",
            "65/65 [==============================] - 1s 22ms/step - loss: 0.0014 - mean_absolute_error: 0.0232 - val_loss: 0.0012 - val_mean_absolute_error: 0.0226\n",
            "Epoch 22/100\n",
            "65/65 [==============================] - 1s 14ms/step - loss: 0.0010 - mean_absolute_error: 0.0196 - val_loss: 5.3048e-04 - val_mean_absolute_error: 0.0153\n",
            "Epoch 23/100\n",
            "65/65 [==============================] - 1s 14ms/step - loss: 0.0012 - mean_absolute_error: 0.0215 - val_loss: 8.7816e-04 - val_mean_absolute_error: 0.0196\n",
            "Epoch 24/100\n",
            "65/65 [==============================] - 1s 14ms/step - loss: 0.0011 - mean_absolute_error: 0.0203 - val_loss: 9.5007e-04 - val_mean_absolute_error: 0.0190\n",
            "9/9 [==============================] - 1s 6ms/step\n"
          ]
        },
        {
          "output_type": "display_data",
          "data": {
            "text/plain": [
              "<Figure size 2000x500 with 1 Axes>"
            ],
            "image/png": "[encoded data removed]"
          },
          "metadata": {}
        },
        {
          "output_type": "stream",
          "name": "stdout",
          "text": [
            "i zero...else...243\n",
            "profit....102450.13610816386\n"
          ]
        }
      ],
      "source": [
        "run_model('EURUSD=X','2000-01-01','2023-10-14',\"\",100)"
      ]
    },
    {
      "cell_type": "code",
      "execution_count": null,
      "metadata": {
        "colab": {
          "base_uri": "https://localhost:8080/"
        },
        "id": "HhFBt6GbJ27Y",
        "outputId": "f6c37853-3808-4170-b710-d507afe738e7"
      },
      "outputs": [
        {
          "output_type": "stream",
          "name": "stdout",
          "text": [
            "\r[*********************100%%**********************]  1 of 1 completed\n"
          ]
        }
      ],
      "source": [
        "df_stock = yf.download('EURUSD=X','2000-01-01','2023-10-19')"
      ]
    },
    {
      "cell_type": "code",
      "execution_count": null,
      "metadata": {
        "id": "3M2ElFXIOKwp"
      },
      "outputs": [],
      "source": [
        " data = normalize_data(df_stock)"
      ]
    },
    {
      "cell_type": "code",
      "source": [
        "data"
      ],
      "metadata": {
        "colab": {
          "base_uri": "https://localhost:8080/",
          "height": 455
        },
        "id": "i9THSev-oXOP",
        "outputId": "3a455631-dea7-48c9-9b70-ba89a89f56ca"
      },
      "execution_count": null,
      "outputs": [
        {
          "output_type": "execute_result",
          "data": {
            "text/plain": [
              "                Open      High       Low     Close  Adj Close  Volume\n",
              "Date                                                                 \n",
              "2003-12-01  0.381761  0.372752  0.740507  0.370604   1.196501       0\n",
              "2003-12-02  0.370333  0.383598  0.740639  0.389998   1.208897       0\n",
              "2003-12-03  0.390533  0.386901  0.749289  0.395317   1.212298       0\n",
              "2003-12-04  0.395237  0.389102  0.747109  0.388741   1.208094       0\n",
              "2003-12-05  0.388658  0.396483  0.748558  0.405326   1.218695       0\n",
              "...              ...       ...       ...       ...        ...     ...\n",
              "2023-10-11  0.157948  0.151536  0.651287  0.157796   1.060479       0\n",
              "2023-10-12  0.161000  0.152408  0.648197  0.160846   1.062428       0\n",
              "2023-10-13  0.147291  0.139740  0.644908  0.147150   1.053674       0\n",
              "2023-10-16  0.144913  0.139127  0.646242  0.144774   1.052155       0\n",
              "2023-10-17  0.151405  0.140442  0.647559  0.150038   1.055520       0\n",
              "\n",
              "[5158 rows x 6 columns]"
            ],
            "text/html": [
              "\n",
              "  <div id=\"df-65226baf-846d-43cb-bf4c-9525852df8c3\" class=\"colab-df-container\">\n",
              "    <div>\n",
              "<style scoped>\n",
              "    .dataframe tbody tr th:only-of-type {\n",
              "        vertical-align: middle;\n",
              "    }\n",
              "\n",
              "    .dataframe tbody tr th {\n",
              "        vertical-align: top;\n",
              "    }\n",
              "\n",
              "    .dataframe thead th {\n",
              "        text-align: right;\n",
              "    }\n",
              "</style>\n",
              "<table border=\"1\" class=\"dataframe\">\n",
              "  <thead>\n",
              "    <tr style=\"text-align: right;\">\n",
              "      <th></th>\n",
              "      <th>Open</th>\n",
              "      <th>High</th>\n",
              "      <th>Low</th>\n",
              "      <th>Close</th>\n",
              "      <th>Adj Close</th>\n",
              "      <th>Volume</th>\n",
              "    </tr>\n",
              "    <tr>\n",
              "      <th>Date</th>\n",
              "      <th></th>\n",
              "      <th></th>\n",
              "      <th></th>\n",
              "      <th></th>\n",
              "      <th></th>\n",
              "      <th></th>\n",
              "    </tr>\n",
              "  </thead>\n",
              "  <tbody>\n",
              "    <tr>\n",
              "      <th>2003-12-01</th>\n",
              "      <td>0.381761</td>\n",
              "      <td>0.372752</td>\n",
              "      <td>0.740507</td>\n",
              "      <td>0.370604</td>\n",
              "      <td>1.196501</td>\n",
              "      <td>0</td>\n",
              "    </tr>\n",
              "    <tr>\n",
              "      <th>2003-12-02</th>\n",
              "      <td>0.370333</td>\n",
              "      <td>0.383598</td>\n",
              "      <td>0.740639</td>\n",
              "      <td>0.389998</td>\n",
              "      <td>1.208897</td>\n",
              "      <td>0</td>\n",
              "    </tr>\n",
              "    <tr>\n",
              "      <th>2003-12-03</th>\n",
              "      <td>0.390533</td>\n",
              "      <td>0.386901</td>\n",
              "      <td>0.749289</td>\n",
              "      <td>0.395317</td>\n",
              "      <td>1.212298</td>\n",
              "      <td>0</td>\n",
              "    </tr>\n",
              "    <tr>\n",
              "      <th>2003-12-04</th>\n",
              "      <td>0.395237</td>\n",
              "      <td>0.389102</td>\n",
              "      <td>0.747109</td>\n",
              "      <td>0.388741</td>\n",
              "      <td>1.208094</td>\n",
              "      <td>0</td>\n",
              "    </tr>\n",
              "    <tr>\n",
              "      <th>2003-12-05</th>\n",
              "      <td>0.388658</td>\n",
              "      <td>0.396483</td>\n",
              "      <td>0.748558</td>\n",
              "      <td>0.405326</td>\n",
              "      <td>1.218695</td>\n",
              "      <td>0</td>\n",
              "    </tr>\n",
              "    <tr>\n",
              "      <th>...</th>\n",
              "      <td>...</td>\n",
              "      <td>...</td>\n",
              "      <td>...</td>\n",
              "      <td>...</td>\n",
              "      <td>...</td>\n",
              "      <td>...</td>\n",
              "    </tr>\n",
              "    <tr>\n",
              "      <th>2023-10-11</th>\n",
              "      <td>0.157948</td>\n",
              "      <td>0.151536</td>\n",
              "      <td>0.651287</td>\n",
              "      <td>0.157796</td>\n",
              "      <td>1.060479</td>\n",
              "      <td>0</td>\n",
              "    </tr>\n",
              "    <tr>\n",
              "      <th>2023-10-12</th>\n",
              "      <td>0.161000</td>\n",
              "      <td>0.152408</td>\n",
              "      <td>0.648197</td>\n",
              "      <td>0.160846</td>\n",
              "      <td>1.062428</td>\n",
              "      <td>0</td>\n",
              "    </tr>\n",
              "    <tr>\n",
              "      <th>2023-10-13</th>\n",
              "      <td>0.147291</td>\n",
              "      <td>0.139740</td>\n",
              "      <td>0.644908</td>\n",
              "      <td>0.147150</td>\n",
              "      <td>1.053674</td>\n",
              "      <td>0</td>\n",
              "    </tr>\n",
              "    <tr>\n",
              "      <th>2023-10-16</th>\n",
              "      <td>0.144913</td>\n",
              "      <td>0.139127</td>\n",
              "      <td>0.646242</td>\n",
              "      <td>0.144774</td>\n",
              "      <td>1.052155</td>\n",
              "      <td>0</td>\n",
              "    </tr>\n",
              "    <tr>\n",
              "      <th>2023-10-17</th>\n",
              "      <td>0.151405</td>\n",
              "      <td>0.140442</td>\n",
              "      <td>0.647559</td>\n",
              "      <td>0.150038</td>\n",
              "      <td>1.055520</td>\n",
              "      <td>0</td>\n",
              "    </tr>\n",
              "  </tbody>\n",
              "</table>\n",
              "<p>5158 rows × 6 columns</p>\n",
              "</div>\n",
              "    <div class=\"colab-df-buttons\">\n",
              "\n",
              "  <div class=\"colab-df-container\">\n",
              "    <button class=\"colab-df-convert\" onclick=\"convertToInteractive('df-65226baf-846d-43cb-bf4c-9525852df8c3')\"\n",
              "            title=\"Convert this dataframe to an interactive table.\"\n",
              "            style=\"display:none;\">\n",
              "\n",
              "  <svg xmlns=\"http://www.w3.org/2000/svg\" height=\"24px\" viewBox=\"0 -960 960 960\">\n",
              "    <path d=\"M120-120v-720h720v720H120Zm60-500h600v-160H180v160Zm220 220h160v-160H400v160Zm0 220h160v-160H400v160ZM180-400h160v-160H180v160Zm440 0h160v-160H620v160ZM180-180h160v-160H180v160Zm440 0h160v-160H620v160Z\"/>\n",
              "  </svg>\n",
              "    </button>\n",
              "\n",
              "  <style>\n",
              "    .colab-df-container {\n",
              "      display:flex;\n",
              "      gap: 12px;\n",
              "    }\n",
              "\n",
              "    .colab-df-convert {\n",
              "      background-color: #E8F0FE;\n",
              "      border: none;\n",
              "      border-radius: 50%;\n",
              "      cursor: pointer;\n",
              "      display: none;\n",
              "      fill: #1967D2;\n",
              "      height: 32px;\n",
              "      padding: 0 0 0 0;\n",
              "      width: 32px;\n",
              "    }\n",
              "\n",
              "    .colab-df-convert:hover {\n",
              "      background-color: #E2EBFA;\n",
              "      box-shadow: 0px 1px 2px rgba(60, 64, 67, 0.3), 0px 1px 3px 1px rgba(60, 64, 67, 0.15);\n",
              "      fill: #174EA6;\n",
              "    }\n",
              "\n",
              "    .colab-df-buttons div {\n",
              "      margin-bottom: 4px;\n",
              "    }\n",
              "\n",
              "    [theme=dark] .colab-df-convert {\n",
              "      background-color: #3B4455;\n",
              "      fill: #D2E3FC;\n",
              "    }\n",
              "\n",
              "    [theme=dark] .colab-df-convert:hover {\n",
              "      background-color: #434B5C;\n",
              "      box-shadow: 0px 1px 3px 1px rgba(0, 0, 0, 0.15);\n",
              "      filter: drop-shadow(0px 1px 2px rgba(0, 0, 0, 0.3));\n",
              "      fill: #FFFFFF;\n",
              "    }\n",
              "  </style>\n",
              "\n",
              "    <script>\n",
              "      const buttonEl =\n",
              "        document.querySelector('#df-65226baf-846d-43cb-bf4c-9525852df8c3 button.colab-df-convert');\n",
              "      buttonEl.style.display =\n",
              "        google.colab.kernel.accessAllowed ? 'block' : 'none';\n",
              "\n",
              "      async function convertToInteractive(key) {\n",
              "        const element = document.querySelector('#df-65226baf-846d-43cb-bf4c-9525852df8c3');\n",
              "        const dataTable =\n",
              "          await google.colab.kernel.invokeFunction('convertToInteractive',\n",
              "                                                    [key], {});\n",
              "        if (!dataTable) return;\n",
              "\n",
              "        const docLinkHtml = 'Like what you see? Visit the ' +\n",
              "          '<a target=\"_blank\" href=https://colab.research.google.com/notebooks/data_table.ipynb>data table notebook</a>'\n",
              "          + ' to learn more about interactive tables.';\n",
              "        element.innerHTML = '';\n",
              "        dataTable['output_type'] = 'display_data';\n",
              "        await google.colab.output.renderOutput(dataTable, element);\n",
              "        const docLink = document.createElement('div');\n",
              "        docLink.innerHTML = docLinkHtml;\n",
              "        element.appendChild(docLink);\n",
              "      }\n",
              "    </script>\n",
              "  </div>\n",
              "\n",
              "\n",
              "<div id=\"df-0413233e-e070-4857-9cfd-4bd0bf67cf24\">\n",
              "  <button class=\"colab-df-quickchart\" onclick=\"quickchart('df-0413233e-e070-4857-9cfd-4bd0bf67cf24')\"\n",
              "            title=\"Suggest charts.\"\n",
              "            style=\"display:none;\">\n",
              "\n",
              "<svg xmlns=\"http://www.w3.org/2000/svg\" height=\"24px\"viewBox=\"0 0 24 24\"\n",
              "     width=\"24px\">\n",
              "    <g>\n",
              "        <path d=\"M19 3H5c-1.1 0-2 .9-2 2v14c0 1.1.9 2 2 2h14c1.1 0 2-.9 2-2V5c0-1.1-.9-2-2-2zM9 17H7v-7h2v7zm4 0h-2V7h2v10zm4 0h-2v-4h2v4z\"/>\n",
              "    </g>\n",
              "</svg>\n",
              "  </button>\n",
              "\n",
              "<style>\n",
              "  .colab-df-quickchart {\n",
              "      --bg-color: #E8F0FE;\n",
              "      --fill-color: #1967D2;\n",
              "      --hover-bg-color: #E2EBFA;\n",
              "      --hover-fill-color: #174EA6;\n",
              "      --disabled-fill-color: #AAA;\n",
              "      --disabled-bg-color: #DDD;\n",
              "  }\n",
              "\n",
              "  [theme=dark] .colab-df-quickchart {\n",
              "      --bg-color: #3B4455;\n",
              "      --fill-color: #D2E3FC;\n",
              "      --hover-bg-color: #434B5C;\n",
              "      --hover-fill-color: #FFFFFF;\n",
              "      --disabled-bg-color: #3B4455;\n",
              "      --disabled-fill-color: #666;\n",
              "  }\n",
              "\n",
              "  .colab-df-quickchart {\n",
              "    background-color: var(--bg-color);\n",
              "    border: none;\n",
              "    border-radius: 50%;\n",
              "    cursor: pointer;\n",
              "    display: none;\n",
              "    fill: var(--fill-color);\n",
              "    height: 32px;\n",
              "    padding: 0;\n",
              "    width: 32px;\n",
              "  }\n",
              "\n",
              "  .colab-df-quickchart:hover {\n",
              "    background-color: var(--hover-bg-color);\n",
              "    box-shadow: 0 1px 2px rgba(60, 64, 67, 0.3), 0 1px 3px 1px rgba(60, 64, 67, 0.15);\n",
              "    fill: var(--button-hover-fill-color);\n",
              "  }\n",
              "\n",
              "  .colab-df-quickchart-complete:disabled,\n",
              "  .colab-df-quickchart-complete:disabled:hover {\n",
              "    background-color: var(--disabled-bg-color);\n",
              "    fill: var(--disabled-fill-color);\n",
              "    box-shadow: none;\n",
              "  }\n",
              "\n",
              "  .colab-df-spinner {\n",
              "    border: 2px solid var(--fill-color);\n",
              "    border-color: transparent;\n",
              "    border-bottom-color: var(--fill-color);\n",
              "    animation:\n",
              "      spin 1s steps(1) infinite;\n",
              "  }\n",
              "\n",
              "  @keyframes spin {\n",
              "    0% {\n",
              "      border-color: transparent;\n",
              "      border-bottom-color: var(--fill-color);\n",
              "      border-left-color: var(--fill-color);\n",
              "    }\n",
              "    20% {\n",
              "      border-color: transparent;\n",
              "      border-left-color: var(--fill-color);\n",
              "      border-top-color: var(--fill-color);\n",
              "    }\n",
              "    30% {\n",
              "      border-color: transparent;\n",
              "      border-left-color: var(--fill-color);\n",
              "      border-top-color: var(--fill-color);\n",
              "      border-right-color: var(--fill-color);\n",
              "    }\n",
              "    40% {\n",
              "      border-color: transparent;\n",
              "      border-right-color: var(--fill-color);\n",
              "      border-top-color: var(--fill-color);\n",
              "    }\n",
              "    60% {\n",
              "      border-color: transparent;\n",
              "      border-right-color: var(--fill-color);\n",
              "    }\n",
              "    80% {\n",
              "      border-color: transparent;\n",
              "      border-right-color: var(--fill-color);\n",
              "      border-bottom-color: var(--fill-color);\n",
              "    }\n",
              "    90% {\n",
              "      border-color: transparent;\n",
              "      border-bottom-color: var(--fill-color);\n",
              "    }\n",
              "  }\n",
              "</style>\n",
              "\n",
              "  <script>\n",
              "    async function quickchart(key) {\n",
              "      const quickchartButtonEl =\n",
              "        document.querySelector('#' + key + ' button');\n",
              "      quickchartButtonEl.disabled = true;  // To prevent multiple clicks.\n",
              "      quickchartButtonEl.classList.add('colab-df-spinner');\n",
              "      try {\n",
              "        const charts = await google.colab.kernel.invokeFunction(\n",
              "            'suggestCharts', [key], {});\n",
              "      } catch (error) {\n",
              "        console.error('Error during call to suggestCharts:', error);\n",
              "      }\n",
              "      quickchartButtonEl.classList.remove('colab-df-spinner');\n",
              "      quickchartButtonEl.classList.add('colab-df-quickchart-complete');\n",
              "    }\n",
              "    (() => {\n",
              "      let quickchartButtonEl =\n",
              "        document.querySelector('#df-0413233e-e070-4857-9cfd-4bd0bf67cf24 button');\n",
              "      quickchartButtonEl.style.display =\n",
              "        google.colab.kernel.accessAllowed ? 'block' : 'none';\n",
              "    })();\n",
              "  </script>\n",
              "</div>\n",
              "    </div>\n",
              "  </div>\n"
            ]
          },
          "metadata": {},
          "execution_count": 22
        }
      ]
    },
    {
      "cell_type": "code",
      "execution_count": null,
      "metadata": {
        "id": "B-4S1TcNdoej"
      },
      "outputs": [],
      "source": [
        "def future_data():\n",
        "  data = {\n",
        "      'Date': pd.to_datetime(['2023-10-18','2023-10-19', '2023-10-20', '2023-10-21', '2023-10-22', '2023-10-23']),\n",
        "      'Open': [0] * 6,\n",
        "      'High': [0] * 6,\n",
        "      'Low': [0] * 6,\n",
        "      'Close': [0] * 6,\n",
        "      'Adj Close': [0] * 6,\n",
        "      'Volume' : [0] * 6\n",
        "  }\n",
        "  df_next_days = pd.DataFrame(data)\n",
        "  df_next_days = df_next_days.set_index('Date')\n",
        "  return df_next_days\n"
      ]
    },
    {
      "cell_type": "code",
      "source": [
        "future_data = pd.DataFrame({\n",
        "    'Date': pd.date_range(start='2023-10-15', periods=365, freq='D'),\n",
        "    'Open': np.random.rand(365) ,\n",
        "    'High': np.random.rand(365) ,\n",
        "    'Low': np.random.rand(365) ,\n",
        "    'Close': np.random.rand(365) ,\n",
        "    'Adj Close': np.random.rand(365) ,\n",
        "    'Volume' : np.random.rand(365)\n",
        "})\n",
        "future_data = pd.DataFrame(future_data)\n",
        "future_data = future_data.set_index('Date')"
      ],
      "metadata": {
        "id": "q4aAU03R63Ww"
      },
      "execution_count": null,
      "outputs": []
    },
    {
      "cell_type": "code",
      "execution_count": null,
      "metadata": {
        "colab": {
          "base_uri": "https://localhost:8080/"
        },
        "id": "TFS0UT9yKxJz",
        "outputId": "e3880e7e-487b-4ee9-e564-7bfe815a88bc"
      },
      "outputs": [
        {
          "output_type": "stream",
          "name": "stdout",
          "text": [
            "6/6 [==============================] - 0s 8ms/step\n"
          ]
        }
      ],
      "source": [
        "test_df = future_data\n",
        "multi_window = WindowGenerator(test_df,input_width=n_steps,\n",
        "                               label_width=1,\n",
        "                               shift=1)\n",
        "multi_window.test2 = multi_window.make_dataset(test_df)\n",
        "predictions = feedback_model.predict(multi_window.test2)"
      ]
    },
    {
      "cell_type": "code",
      "source": [
        "predictions"
      ],
      "metadata": {
        "colab": {
          "base_uri": "https://localhost:8080/"
        },
        "id": "3449E0wspLG8",
        "outputId": "aa6eaafa-a7f0-4bf5-dbbe-22d3b4a6214c"
      },
      "execution_count": null,
      "outputs": [
        {
          "output_type": "execute_result",
          "data": {
            "text/plain": [
              "array([[[0.62622464, 0.4965584 , 0.15288989, 0.49023417, 0.10724076,\n",
              "         0.        ],\n",
              "        [0.49784002, 0.5537842 , 0.07765236, 0.5589802 , 0.6327953 ,\n",
              "         0.03677978]],\n",
              "\n",
              "       [[0.66203153, 0.638722  , 0.2676849 , 0.64560926, 0.614926  ,\n",
              "         0.        ],\n",
              "        [0.24075915, 0.23878245, 0.14516485, 0.25462407, 0.7586186 ,\n",
              "         0.00377835]],\n",
              "\n",
              "       [[0.44794235, 0.33929136, 0.4968677 , 0.27209443, 0.8247421 ,\n",
              "         0.        ],\n",
              "        [0.6356898 , 0.73164797, 0.37549928, 0.7767975 , 0.82893443,\n",
              "         0.        ]],\n",
              "\n",
              "       ...,\n",
              "\n",
              "       [[0.42085207, 0.38737693, 0.40813485, 0.17239192, 0.5421666 ,\n",
              "         0.        ],\n",
              "        [0.40831673, 0.47801968, 0.20446381, 0.56845796, 0.56918144,\n",
              "         0.13920191]],\n",
              "\n",
              "       [[0.6420655 , 0.46952063, 0.3200224 , 0.59883124, 0.7260437 ,\n",
              "         0.        ],\n",
              "        [0.36468697, 0.47223517, 0.        , 0.3041935 , 0.27037627,\n",
              "         0.        ]],\n",
              "\n",
              "       [[0.4309892 , 0.4691789 , 0.24814887, 0.26137316, 0.16808257,\n",
              "         0.        ],\n",
              "        [0.37049866, 0.48055735, 0.21629566, 0.5299357 , 0.82824326,\n",
              "         0.18696053]]], dtype=float32)"
            ]
          },
          "metadata": {},
          "execution_count": 28
        }
      ]
    }
  ],
  "metadata": {
    "accelerator": "GPU",
    "colab": {
      "provenance": [],
      "include_colab_link": true
    },
    "kernelspec": {
      "display_name": "Python 3",
      "name": "python3"
    },
    "language_info": {
      "name": "python"
    }
  },
  "nbformat": 4,
  "nbformat_minor": 0
}